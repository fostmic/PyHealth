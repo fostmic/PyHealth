{
 "cells": [
  {
   "cell_type": "code",
   "execution_count": null,
   "id": "91abc232",
   "metadata": {},
   "outputs": [],
   "source": [
    "import pandas as pd"
   ]
  },
  {
   "cell_type": "code",
   "execution_count": null,
   "id": "6483dc76",
   "metadata": {},
   "outputs": [],
   "source": [
    "df = pd.read_csv('https://raw.githubusercontent.com/IvaBojic/SleepQA/refs/heads/main/data/agreement/model_agreement.csv')"
   ]
  },
  {
   "cell_type": "code",
   "execution_count": null,
   "id": "90e18571",
   "metadata": {},
   "outputs": [],
   "source": [
    "df.columns"
   ]
  },
  {
   "cell_type": "code",
   "execution_count": null,
   "id": "e69b32b5",
   "metadata": {},
   "outputs": [],
   "source": [
    "df.head()"
   ]
  },
  {
   "cell_type": "code",
   "execution_count": null,
   "id": "75fa2c3b",
   "metadata": {},
   "outputs": [],
   "source": [
    "search_string = 'coffee'\n",
    "columns_to_search = ['q_p1', 'par_1', 'par_2', 'answer_1', 'answer_2']\n",
    "\n",
    "mask = df[columns_to_search].apply(lambda x: x.str.contains(search_string, na=False)).any(axis=1)\n",
    "\n",
    "result_df = df[mask]\n",
    "print(result_df)"
   ]
  },
  {
   "cell_type": "code",
   "execution_count": null,
   "id": "6a70f577",
   "metadata": {},
   "outputs": [],
   "source": [
    "result_df.head()"
   ]
  },
  {
   "cell_type": "code",
   "execution_count": 2,
   "id": "98419913",
   "metadata": {},
   "outputs": [],
   "source": [
    "from pyhealth.datasets.sleepQA import SleepQADataset"
   ]
  },
  {
   "cell_type": "code",
   "execution_count": 3,
   "id": "7ebb3d95",
   "metadata": {},
   "outputs": [],
   "source": [
    "from pathlib import Path"
   ]
  },
  {
   "cell_type": "code",
   "execution_count": 7,
   "id": "8eb11e8b",
   "metadata": {},
   "outputs": [
    {
     "name": "stdout",
     "output_type": "stream",
     "text": [
      "No config path provided, using default config\n",
      "Initializing sleepqa_model_agreement dataset from C:\\Users\\fostm\\anaconda3\\Lib\\site-packages\\pyhealth\\datasets\\data (dev mode: False)\n",
      "Scanning table: sleepqa_model_agreement from C:\\Users\\fostm\\anaconda3\\Lib\\site-packages\\pyhealth\\datasets\\data/model_agreement.csv\n"
     ]
    }
   ],
   "source": [
    "ds = SleepQADataset(root='C:\\\\Users\\\\fostm\\\\anaconda3\\\\Lib\\\\site-packages\\\\pyhealth\\\\datasets\\\\data')"
   ]
  },
  {
   "cell_type": "code",
   "execution_count": 8,
   "id": "3431a120",
   "metadata": {},
   "outputs": [],
   "source": [
    "out = ds.SearchSleepQAQuestions(search_string='coffee')"
   ]
  },
  {
   "cell_type": "code",
   "execution_count": 6,
   "id": "2c41f4b8",
   "metadata": {},
   "outputs": [
    {
     "data": {
      "text/html": [
       "<div>\n",
       "<style scoped>\n",
       "    .dataframe tbody tr th:only-of-type {\n",
       "        vertical-align: middle;\n",
       "    }\n",
       "\n",
       "    .dataframe tbody tr th {\n",
       "        vertical-align: top;\n",
       "    }\n",
       "\n",
       "    .dataframe thead th {\n",
       "        text-align: right;\n",
       "    }\n",
       "</style>\n",
       "<table border=\"1\" class=\"dataframe\">\n",
       "  <thead>\n",
       "    <tr style=\"text-align: right;\">\n",
       "      <th></th>\n",
       "      <th>q_p1</th>\n",
       "      <th>par_1</th>\n",
       "      <th>par_2</th>\n",
       "      <th>answer_1</th>\n",
       "      <th>answer_2</th>\n",
       "      <th>score_a_1</th>\n",
       "      <th>score_p_1</th>\n",
       "      <th>score_a_2</th>\n",
       "      <th>score_p_2</th>\n",
       "      <th>score_a_3</th>\n",
       "      <th>score_p_3</th>\n",
       "      <th>score_a_4</th>\n",
       "      <th>score_p_4</th>\n",
       "      <th>score_a_5</th>\n",
       "      <th>score_p_5</th>\n",
       "    </tr>\n",
       "  </thead>\n",
       "  <tbody>\n",
       "    <tr>\n",
       "      <th>0</th>\n",
       "      <td>what is the recommended amount of caffeine in ...</td>\n",
       "      <td>a large cup of coffee can have up to 470 mg of...</td>\n",
       "      <td>it is recommended that those who are pregnant ...</td>\n",
       "      <td>470 mg of caffeine content</td>\n",
       "      <td>16 ounces or less per day</td>\n",
       "      <td>3</td>\n",
       "      <td>4</td>\n",
       "      <td>3</td>\n",
       "      <td>4</td>\n",
       "      <td>3</td>\n",
       "      <td>3</td>\n",
       "      <td>2</td>\n",
       "      <td>4</td>\n",
       "      <td>3</td>\n",
       "      <td>1</td>\n",
       "    </tr>\n",
       "    <tr>\n",
       "      <th>1</th>\n",
       "      <td>how long should afternoon naps be</td>\n",
       "      <td>daytime sleeping doesn't have to interfere wit...</td>\n",
       "      <td>people nap for a variety of reasons. perhaps t...</td>\n",
       "      <td>as long as 155 minutes</td>\n",
       "      <td>how long</td>\n",
       "      <td>4</td>\n",
       "      <td>4</td>\n",
       "      <td>1</td>\n",
       "      <td>4</td>\n",
       "      <td>4</td>\n",
       "      <td>4</td>\n",
       "      <td>4</td>\n",
       "      <td>4</td>\n",
       "      <td>4</td>\n",
       "      <td>1</td>\n",
       "    </tr>\n",
       "    <tr>\n",
       "      <th>2</th>\n",
       "      <td>why does coffee make you feel more alert</td>\n",
       "      <td>coffee drinking is widespread, especially in t...</td>\n",
       "      <td>coffee promotes alertness and reduces tirednes...</td>\n",
       "      <td>sleepy rather than alert</td>\n",
       "      <td>by blocking adenosine receptors and preventing...</td>\n",
       "      <td>2</td>\n",
       "      <td>2</td>\n",
       "      <td>2</td>\n",
       "      <td>2</td>\n",
       "      <td>2</td>\n",
       "      <td>2</td>\n",
       "      <td>2</td>\n",
       "      <td>2</td>\n",
       "      <td>2</td>\n",
       "      <td>3</td>\n",
       "    </tr>\n",
       "    <tr>\n",
       "      <th>3</th>\n",
       "      <td>does coffee affect my sleep?</td>\n",
       "      <td>it's out in the open your hamstring hurts, let...</td>\n",
       "      <td>unfortunately, these will likely make your sle...</td>\n",
       "      <td>my kid does this in his sleep</td>\n",
       "      <td>coffee has the ability to disrupt sleep even w...</td>\n",
       "      <td>2</td>\n",
       "      <td>2</td>\n",
       "      <td>2</td>\n",
       "      <td>2</td>\n",
       "      <td>2</td>\n",
       "      <td>2</td>\n",
       "      <td>2</td>\n",
       "      <td>2</td>\n",
       "      <td>2</td>\n",
       "      <td>2</td>\n",
       "    </tr>\n",
       "    <tr>\n",
       "      <th>4</th>\n",
       "      <td>what is the latest time for the consumption of...</td>\n",
       "      <td>however, establishing regular times to fall as...</td>\n",
       "      <td>a large cup of coffee can have up to 470 mg of...</td>\n",
       "      <td>about 30 minutes</td>\n",
       "      <td>six hours before bedtime</td>\n",
       "      <td>3</td>\n",
       "      <td>2</td>\n",
       "      <td>2</td>\n",
       "      <td>2</td>\n",
       "      <td>2</td>\n",
       "      <td>2</td>\n",
       "      <td>2</td>\n",
       "      <td>2</td>\n",
       "      <td>2</td>\n",
       "      <td>2</td>\n",
       "    </tr>\n",
       "  </tbody>\n",
       "</table>\n",
       "</div>"
      ],
      "text/plain": [
       "                                                q_p1  \\\n",
       "0  what is the recommended amount of caffeine in ...   \n",
       "1                  how long should afternoon naps be   \n",
       "2           why does coffee make you feel more alert   \n",
       "3                       does coffee affect my sleep?   \n",
       "4  what is the latest time for the consumption of...   \n",
       "\n",
       "                                               par_1  \\\n",
       "0  a large cup of coffee can have up to 470 mg of...   \n",
       "1  daytime sleeping doesn't have to interfere wit...   \n",
       "2  coffee drinking is widespread, especially in t...   \n",
       "3  it's out in the open your hamstring hurts, let...   \n",
       "4  however, establishing regular times to fall as...   \n",
       "\n",
       "                                               par_2  \\\n",
       "0  it is recommended that those who are pregnant ...   \n",
       "1  people nap for a variety of reasons. perhaps t...   \n",
       "2  coffee promotes alertness and reduces tirednes...   \n",
       "3  unfortunately, these will likely make your sle...   \n",
       "4  a large cup of coffee can have up to 470 mg of...   \n",
       "\n",
       "                        answer_1  \\\n",
       "0     470 mg of caffeine content   \n",
       "1         as long as 155 minutes   \n",
       "2       sleepy rather than alert   \n",
       "3  my kid does this in his sleep   \n",
       "4               about 30 minutes   \n",
       "\n",
       "                                            answer_2  score_a_1  score_p_1  \\\n",
       "0                          16 ounces or less per day          3          4   \n",
       "1                                           how long          4          4   \n",
       "2  by blocking adenosine receptors and preventing...          2          2   \n",
       "3  coffee has the ability to disrupt sleep even w...          2          2   \n",
       "4                           six hours before bedtime          3          2   \n",
       "\n",
       "   score_a_2  score_p_2  score_a_3  score_p_3  score_a_4  score_p_4  \\\n",
       "0          3          4          3          3          2          4   \n",
       "1          1          4          4          4          4          4   \n",
       "2          2          2          2          2          2          2   \n",
       "3          2          2          2          2          2          2   \n",
       "4          2          2          2          2          2          2   \n",
       "\n",
       "   score_a_5  score_p_5  \n",
       "0          3          1  \n",
       "1          4          1  \n",
       "2          2          3  \n",
       "3          2          2  \n",
       "4          2          2  "
      ]
     },
     "execution_count": 6,
     "metadata": {},
     "output_type": "execute_result"
    }
   ],
   "source": [
    "out.head()"
   ]
  }
 ],
 "metadata": {
  "kernelspec": {
   "display_name": "base",
   "language": "python",
   "name": "python3"
  },
  "language_info": {
   "codemirror_mode": {
    "name": "ipython",
    "version": 3
   },
   "file_extension": ".py",
   "mimetype": "text/x-python",
   "name": "python",
   "nbconvert_exporter": "python",
   "pygments_lexer": "ipython3",
   "version": "3.11.5"
  }
 },
 "nbformat": 4,
 "nbformat_minor": 5
}
